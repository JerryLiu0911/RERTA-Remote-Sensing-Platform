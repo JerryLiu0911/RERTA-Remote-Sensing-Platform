{
  "nbformat": 4,
  "nbformat_minor": 0,
  "metadata": {
    "colab": {
      "provenance": [],
      "mount_file_id": "1xNsYsrycOAtyyqxv0MnW1b4WGABMCoBO",
      "authorship_tag": "ABX9TyPvEwYich+NQF5pvtOZkR+I",
      "include_colab_link": true
    },
    "kernelspec": {
      "name": "python3",
      "display_name": "Python 3"
    },
    "language_info": {
      "name": "python"
    }
  },
  "cells": [
    {
      "cell_type": "markdown",
      "metadata": {
        "id": "view-in-github",
        "colab_type": "text"
      },
      "source": [
        "<a href=\"https://colab.research.google.com/github/JerryLiu0911/RERTA-Remote-Sensing-Platform/blob/main/Untitled1.ipynb\" target=\"_parent\"><img src=\"https://colab.research.google.com/assets/colab-badge.svg\" alt=\"Open In Colab\"/></a>"
      ]
    },
    {
      "cell_type": "code",
      "execution_count": null,
      "metadata": {
        "id": "K0Qa7CP64EjK"
      },
      "outputs": [],
      "source": []
    },
    {
      "cell_type": "markdown",
      "metadata": {
        "id": "8e314245"
      },
      "source": [
        "# Task\n",
        "Load the data from \"/content/Rerta koordinate 2018_09_24.gpkg\", then plot the coordinates on a graph."
      ]
    },
    {
      "cell_type": "markdown",
      "metadata": {
        "id": "4fdeef04"
      },
      "source": [
        "## Load data\n",
        "\n",
        "### Subtask:\n",
        "Load the data from the specified geopackage file into a DataFrame.\n"
      ]
    },
    {
      "cell_type": "markdown",
      "metadata": {
        "id": "6ef33a49"
      },
      "source": [
        "**Reasoning**:\n",
        "Import geopandas and load the data from the geopackage file into a GeoDataFrame, then display the head.\n",
        "\n"
      ]
    },
    {
      "cell_type": "code",
      "metadata": {
        "colab": {
          "base_uri": "https://localhost:8080/",
          "height": 460
        },
        "id": "5bcf6735",
        "outputId": "84dcb04f-dbb5-4a71-f840-b907f3506764"
      },
      "source": [
        "import geopandas as gpd\n",
        "\n",
        "gdf = gpd.read_file(\"/content/Rerta koordinate 2018_09_24.gpkg\")\n",
        "gdf = gdf[gdf['name'].str.contains('co|buffe|edg', na=False, case=False)]\n",
        "display(gdf.head())"
      ],
      "execution_count": 1,
      "outputs": [
        {
          "output_type": "error",
          "ename": "DataSourceError",
          "evalue": "/content/Rerta koordinate 2018_09_24.gpkg: No such file or directory",
          "traceback": [
            "\u001b[0;31m---------------------------------------------------------------------------\u001b[0m",
            "\u001b[0;31mDataSourceError\u001b[0m                           Traceback (most recent call last)",
            "\u001b[0;32m/tmp/ipython-input-1-3270938662.py\u001b[0m in \u001b[0;36m<cell line: 0>\u001b[0;34m()\u001b[0m\n\u001b[1;32m      1\u001b[0m \u001b[0;32mimport\u001b[0m \u001b[0mgeopandas\u001b[0m \u001b[0;32mas\u001b[0m \u001b[0mgpd\u001b[0m\u001b[0;34m\u001b[0m\u001b[0;34m\u001b[0m\u001b[0m\n\u001b[1;32m      2\u001b[0m \u001b[0;34m\u001b[0m\u001b[0m\n\u001b[0;32m----> 3\u001b[0;31m \u001b[0mgdf\u001b[0m \u001b[0;34m=\u001b[0m \u001b[0mgpd\u001b[0m\u001b[0;34m.\u001b[0m\u001b[0mread_file\u001b[0m\u001b[0;34m(\u001b[0m\u001b[0;34m\"/content/Rerta koordinate 2018_09_24.gpkg\"\u001b[0m\u001b[0;34m)\u001b[0m\u001b[0;34m\u001b[0m\u001b[0;34m\u001b[0m\u001b[0m\n\u001b[0m\u001b[1;32m      4\u001b[0m \u001b[0mgdf\u001b[0m \u001b[0;34m=\u001b[0m \u001b[0mgdf\u001b[0m\u001b[0;34m[\u001b[0m\u001b[0mgdf\u001b[0m\u001b[0;34m[\u001b[0m\u001b[0;34m'name'\u001b[0m\u001b[0;34m]\u001b[0m\u001b[0;34m.\u001b[0m\u001b[0mstr\u001b[0m\u001b[0;34m.\u001b[0m\u001b[0mcontains\u001b[0m\u001b[0;34m(\u001b[0m\u001b[0;34m'co|buffe|edg'\u001b[0m\u001b[0;34m,\u001b[0m \u001b[0mna\u001b[0m\u001b[0;34m=\u001b[0m\u001b[0;32mFalse\u001b[0m\u001b[0;34m,\u001b[0m \u001b[0mcase\u001b[0m\u001b[0;34m=\u001b[0m\u001b[0;32mFalse\u001b[0m\u001b[0;34m)\u001b[0m\u001b[0;34m]\u001b[0m\u001b[0;34m\u001b[0m\u001b[0;34m\u001b[0m\u001b[0m\n\u001b[1;32m      5\u001b[0m \u001b[0mdisplay\u001b[0m\u001b[0;34m(\u001b[0m\u001b[0mgdf\u001b[0m\u001b[0;34m.\u001b[0m\u001b[0mhead\u001b[0m\u001b[0;34m(\u001b[0m\u001b[0;34m)\u001b[0m\u001b[0;34m)\u001b[0m\u001b[0;34m\u001b[0m\u001b[0;34m\u001b[0m\u001b[0m\n",
            "\u001b[0;32m/usr/local/lib/python3.11/dist-packages/geopandas/io/file.py\u001b[0m in \u001b[0;36m_read_file\u001b[0;34m(filename, bbox, mask, columns, rows, engine, **kwargs)\u001b[0m\n\u001b[1;32m    292\u001b[0m \u001b[0;34m\u001b[0m\u001b[0m\n\u001b[1;32m    293\u001b[0m     \u001b[0;32mif\u001b[0m \u001b[0mengine\u001b[0m \u001b[0;34m==\u001b[0m \u001b[0;34m\"pyogrio\"\u001b[0m\u001b[0;34m:\u001b[0m\u001b[0;34m\u001b[0m\u001b[0;34m\u001b[0m\u001b[0m\n\u001b[0;32m--> 294\u001b[0;31m         return _read_file_pyogrio(\n\u001b[0m\u001b[1;32m    295\u001b[0m             \u001b[0mfilename\u001b[0m\u001b[0;34m,\u001b[0m \u001b[0mbbox\u001b[0m\u001b[0;34m=\u001b[0m\u001b[0mbbox\u001b[0m\u001b[0;34m,\u001b[0m \u001b[0mmask\u001b[0m\u001b[0;34m=\u001b[0m\u001b[0mmask\u001b[0m\u001b[0;34m,\u001b[0m \u001b[0mcolumns\u001b[0m\u001b[0;34m=\u001b[0m\u001b[0mcolumns\u001b[0m\u001b[0;34m,\u001b[0m \u001b[0mrows\u001b[0m\u001b[0;34m=\u001b[0m\u001b[0mrows\u001b[0m\u001b[0;34m,\u001b[0m \u001b[0;34m**\u001b[0m\u001b[0mkwargs\u001b[0m\u001b[0;34m\u001b[0m\u001b[0;34m\u001b[0m\u001b[0m\n\u001b[1;32m    296\u001b[0m         )\n",
            "\u001b[0;32m/usr/local/lib/python3.11/dist-packages/geopandas/io/file.py\u001b[0m in \u001b[0;36m_read_file_pyogrio\u001b[0;34m(path_or_bytes, bbox, mask, rows, **kwargs)\u001b[0m\n\u001b[1;32m    545\u001b[0m         \u001b[0mkwargs\u001b[0m\u001b[0;34m[\u001b[0m\u001b[0;34m\"columns\"\u001b[0m\u001b[0;34m]\u001b[0m \u001b[0;34m=\u001b[0m \u001b[0mkwargs\u001b[0m\u001b[0;34m.\u001b[0m\u001b[0mpop\u001b[0m\u001b[0;34m(\u001b[0m\u001b[0;34m\"include_fields\"\u001b[0m\u001b[0;34m)\u001b[0m\u001b[0;34m\u001b[0m\u001b[0;34m\u001b[0m\u001b[0m\n\u001b[1;32m    546\u001b[0m \u001b[0;34m\u001b[0m\u001b[0m\n\u001b[0;32m--> 547\u001b[0;31m     \u001b[0;32mreturn\u001b[0m \u001b[0mpyogrio\u001b[0m\u001b[0;34m.\u001b[0m\u001b[0mread_dataframe\u001b[0m\u001b[0;34m(\u001b[0m\u001b[0mpath_or_bytes\u001b[0m\u001b[0;34m,\u001b[0m \u001b[0mbbox\u001b[0m\u001b[0;34m=\u001b[0m\u001b[0mbbox\u001b[0m\u001b[0;34m,\u001b[0m \u001b[0;34m**\u001b[0m\u001b[0mkwargs\u001b[0m\u001b[0;34m)\u001b[0m\u001b[0;34m\u001b[0m\u001b[0;34m\u001b[0m\u001b[0m\n\u001b[0m\u001b[1;32m    548\u001b[0m \u001b[0;34m\u001b[0m\u001b[0m\n\u001b[1;32m    549\u001b[0m \u001b[0;34m\u001b[0m\u001b[0m\n",
            "\u001b[0;32m/usr/local/lib/python3.11/dist-packages/pyogrio/geopandas.py\u001b[0m in \u001b[0;36mread_dataframe\u001b[0;34m(path_or_buffer, layer, encoding, columns, read_geometry, force_2d, skip_features, max_features, where, bbox, mask, fids, sql, sql_dialect, fid_as_index, use_arrow, on_invalid, arrow_to_pandas_kwargs, **kwargs)\u001b[0m\n\u001b[1;32m    273\u001b[0m         \u001b[0;31m# as numpy does not directly support timezones.\u001b[0m\u001b[0;34m\u001b[0m\u001b[0;34m\u001b[0m\u001b[0m\n\u001b[1;32m    274\u001b[0m         \u001b[0mkwargs\u001b[0m\u001b[0;34m[\u001b[0m\u001b[0;34m\"datetime_as_string\"\u001b[0m\u001b[0;34m]\u001b[0m \u001b[0;34m=\u001b[0m \u001b[0;32mTrue\u001b[0m\u001b[0;34m\u001b[0m\u001b[0;34m\u001b[0m\u001b[0m\n\u001b[0;32m--> 275\u001b[0;31m     result = read_func(\n\u001b[0m\u001b[1;32m    276\u001b[0m         \u001b[0mpath_or_buffer\u001b[0m\u001b[0;34m,\u001b[0m\u001b[0;34m\u001b[0m\u001b[0;34m\u001b[0m\u001b[0m\n\u001b[1;32m    277\u001b[0m         \u001b[0mlayer\u001b[0m\u001b[0;34m=\u001b[0m\u001b[0mlayer\u001b[0m\u001b[0;34m,\u001b[0m\u001b[0;34m\u001b[0m\u001b[0;34m\u001b[0m\u001b[0m\n",
            "\u001b[0;32m/usr/local/lib/python3.11/dist-packages/pyogrio/raw.py\u001b[0m in \u001b[0;36mread\u001b[0;34m(path_or_buffer, layer, encoding, columns, read_geometry, force_2d, skip_features, max_features, where, bbox, mask, fids, sql, sql_dialect, return_fids, datetime_as_string, **kwargs)\u001b[0m\n\u001b[1;32m    196\u001b[0m     \u001b[0mdataset_kwargs\u001b[0m \u001b[0;34m=\u001b[0m \u001b[0m_preprocess_options_key_value\u001b[0m\u001b[0;34m(\u001b[0m\u001b[0mkwargs\u001b[0m\u001b[0;34m)\u001b[0m \u001b[0;32mif\u001b[0m \u001b[0mkwargs\u001b[0m \u001b[0;32melse\u001b[0m \u001b[0;34m{\u001b[0m\u001b[0;34m}\u001b[0m\u001b[0;34m\u001b[0m\u001b[0;34m\u001b[0m\u001b[0m\n\u001b[1;32m    197\u001b[0m \u001b[0;34m\u001b[0m\u001b[0m\n\u001b[0;32m--> 198\u001b[0;31m     return ogr_read(\n\u001b[0m\u001b[1;32m    199\u001b[0m         \u001b[0mget_vsi_path_or_buffer\u001b[0m\u001b[0;34m(\u001b[0m\u001b[0mpath_or_buffer\u001b[0m\u001b[0;34m)\u001b[0m\u001b[0;34m,\u001b[0m\u001b[0;34m\u001b[0m\u001b[0;34m\u001b[0m\u001b[0m\n\u001b[1;32m    200\u001b[0m         \u001b[0mlayer\u001b[0m\u001b[0;34m=\u001b[0m\u001b[0mlayer\u001b[0m\u001b[0;34m,\u001b[0m\u001b[0;34m\u001b[0m\u001b[0;34m\u001b[0m\u001b[0m\n",
            "\u001b[0;32mpyogrio/_io.pyx\u001b[0m in \u001b[0;36mpyogrio._io.ogr_read\u001b[0;34m()\u001b[0m\n",
            "\u001b[0;32mpyogrio/_io.pyx\u001b[0m in \u001b[0;36mpyogrio._io.ogr_open\u001b[0;34m()\u001b[0m\n",
            "\u001b[0;31mDataSourceError\u001b[0m: /content/Rerta koordinate 2018_09_24.gpkg: No such file or directory"
          ]
        }
      ]
    },
    {
      "cell_type": "markdown",
      "metadata": {
        "id": "d3953f9c"
      },
      "source": [
        "## Visualize data\n",
        "\n",
        "### Subtask:\n",
        "Plot the coordinates from the DataFrame on a graph.\n"
      ]
    },
    {
      "cell_type": "markdown",
      "metadata": {
        "id": "59c96b88"
      },
      "source": [
        "**Reasoning**:\n",
        "Create a plot of the GeoDataFrame and add a title.\n",
        "\n"
      ]
    },
    {
      "cell_type": "code",
      "metadata": {
        "id": "ef88d779"
      },
      "source": [
        "ax = gdf.plot(markersize=5)\n",
        "ax.set_title(\"Spatial Distribution of Coordinates\")"
      ],
      "execution_count": null,
      "outputs": []
    },
    {
      "cell_type": "markdown",
      "metadata": {
        "id": "ceb82bab"
      },
      "source": [
        "## Summary:\n",
        "\n",
        "### Data Analysis Key Findings\n",
        "\n",
        "*   The geopackage file was successfully loaded into a GeoDataFrame.\n",
        "*   The data contains coordinate information, including elevation (`ele`), time, name, and geometry (POINT Z).\n",
        "*   The coordinates were plotted, showing their spatial distribution.\n",
        "\n",
        "### Insights or Next Steps\n",
        "\n",
        "*   The plotted points show the spatial distribution of the coordinates, suggesting further analysis could involve examining clusters or patterns.\n"
      ]
    },
    {
      "cell_type": "code",
      "source": [
        "import geopandas as gpd\n",
        "import pandas as pd\n",
        "\n",
        "def extract_coords(path):\n",
        "  gpkg_path = path #\"/content/drive/MyDrive/UROP/UROP RERTA Remote Sensing Platform/RERTA-Remote-Sensing-Platform/Data/Rerta koordinate 2018_09_24.gpkg\"\n",
        "  canopy_path = \"/content/drive/MyDrive/UROP/UROP RERTA Remote Sensing Platform/RERTA-Remote-Sensing-Platform/Data/3.4-canopy.openness.csv\"\n",
        "\n",
        "\n",
        "  try:\n",
        "    gdf = gpd.read_file(gpkg_path)\n",
        "    canopy_df = pd.read_csv(canopy_path)\n",
        "  except Exception as e :\n",
        "    print(\"Error reading files\")\n",
        "    return\n",
        "\n",
        "  # Filter rows where the 'name' column contains \"core\" (case-insensitive)\n",
        "  core_gdf = gdf[gdf['name'].str.contains(\"co|edg|buffe\", case=False, na=False)]\n",
        "\n",
        "  # Extract coordinates (geometry.x, geometry.y)\n",
        "  coordinates = core_gdf.geometry.apply(lambda geom: (geom.x, geom.y))\n",
        "\n",
        "  # Create a DataFrame with the coordinates\n",
        "  coordinates_df = pd.DataFrame(coordinates.tolist(), columns=['Longitude', 'Latitude'])\n",
        "\n",
        "  # Concatenate the original GeoDataFrame with the coordinates DataFrame\n",
        "  result_gdf = pd.concat([core_gdf.reset_index(drop=True), coordinates_df], axis=1)\n",
        "\n",
        "  # Display the result\n",
        "  print(result_gdf.head())\n",
        "  print(canopy_df.head())\n",
        "  ax = core_gdf.plot(markersize=5)\n",
        "  ax.set_title(\"Spatial Distribution of Coordinates\")\n",
        "\n",
        "\n",
        "extract_coords(\"/content/drive/MyDrive/UROP/UROP RERTA Remote Sensing Platform/RERTA-Remote-Sensing-Platform/Data/Rerta koordinate 2018_09_24.gpkg\")"
      ],
      "metadata": {
        "colab": {
          "base_uri": "https://localhost:8080/",
          "height": 1000
        },
        "id": "I_j5et6EgGJH",
        "outputId": "453320aa-fb4e-401c-9624-7f19ccba603c"
      },
      "execution_count": 3,
      "outputs": [
        {
          "output_type": "stream",
          "name": "stdout",
          "text": [
            "      ele time  magvar  geoidheight            name             cmt  \\\n",
            "0  48.912  NaT     NaN          NaN  A-E-150M- OPco  A-E-150M- OPco   \n",
            "1  39.780  NaT     NaN          NaN  A-E-150M-Buffe  A-E-150M-Buffe   \n",
            "2  41.703  NaT     NaN          NaN  A-E-150M-OPedg  A-E-150M-OPedg   \n",
            "3  39.299  NaT     NaN          NaN  A-E-350M-Buffe  A-E-350M-Buffe   \n",
            "4  44.106  NaT     NaN          NaN  A-E-350M-OPcor  A-E-350M-OPcor   \n",
            "\n",
            "             desc   src link1_href link1_text  ... sat hdop vdop pdop  \\\n",
            "0  A-E-150M- OPco  None       None       None  ... NaN  NaN  NaN  NaN   \n",
            "1  A-E-150M-Buffe  None       None       None  ... NaN  NaN  NaN  NaN   \n",
            "2  A-E-150M-OPedg  None       None       None  ... NaN  NaN  NaN  NaN   \n",
            "3  A-E-350M-Buffe  None       None       None  ... NaN  NaN  NaN  NaN   \n",
            "4  A-E-350M-OPcor  None       None       None  ... NaN  NaN  NaN  NaN   \n",
            "\n",
            "  ageofdgpsdata dgpsid                             gpxx_WaypointExtension  \\\n",
            "0           NaN    NaN          <gpxx:DisplayMode>SymbolAndName</gpxx:...   \n",
            "1           NaN    NaN          <gpxx:DisplayMode>SymbolAndName</gpxx:...   \n",
            "2           NaN    NaN          <gpxx:DisplayMode>SymbolAndName</gpxx:...   \n",
            "3           NaN    NaN          <gpxx:DisplayMode>SymbolAndName</gpxx:...   \n",
            "4           NaN    NaN          <gpxx:DisplayMode>SymbolAndName</gpxx:...   \n",
            "\n",
            "                             geometry   Longitude  Latitude  \n",
            "0  POINT Z (101.25415 0.93454 48.912)  101.254153  0.934540  \n",
            "1   POINT Z (101.25269 0.93519 39.78)  101.252693  0.935192  \n",
            "2  POINT Z (101.25313 0.93499 41.703)  101.253130  0.934991  \n",
            "3  POINT Z (101.25413 0.93624 39.299)  101.254127  0.936240  \n",
            "4  POINT Z (101.25548 0.93503 44.106)  101.255477  0.935026  \n",
            "\n",
            "[5 rows x 27 columns]\n",
            "  timepoint        date river treatment  side transect        point  \\\n",
            "0  baseline  23/11/2017  PLPE         A  East     350m  buffer.core   \n",
            "1  baseline  23/11/2017  PLPE         A  East     350m  buffer.core   \n",
            "2  baseline  23/11/2017  PLPE         A  East     350m  buffer.core   \n",
            "3  baseline  23/11/2017  PLPE         A  East     350m  buffer.core   \n",
            "4  baseline  23/11/2017  PLPE         A  East     350m  buffer.core   \n",
            "\n",
            "               point.label start.time end.time          surveyors  \\\n",
            "0  A-East-350m- BufferCore      08:30    08:10  Rio dan Falchdian   \n",
            "1  A-East-350m- BufferCore      08:30    08:10  Rio dan Falchdian   \n",
            "2  A-East-350m- BufferCore      08:30    08:10  Rio dan Falchdian   \n",
            "3  A-East-350m- BufferCore      08:30    08:10  Rio dan Falchdian   \n",
            "4  A-East-350m- BufferCore      08:30    08:10  Rio dan Falchdian   \n",
            "\n",
            "  canopy.openness.to.river canopy.openness.right canopy.openness.from.river  \\\n",
            "0                        6                    19                         11   \n",
            "1                       16                    23                         31   \n",
            "2                       21                    34                         38   \n",
            "3                       23                    29                         18   \n",
            "4                       25                    21                         18   \n",
            "\n",
            "  canopy.openness.left  \n",
            "0                   14  \n",
            "1                   19  \n",
            "2                   26  \n",
            "3                   22  \n",
            "4                   17  \n"
          ]
        },
        {
          "output_type": "display_data",
          "data": {
            "text/plain": [
              "<Figure size 640x480 with 1 Axes>"
            ],
            "image/png": "[encoded data removed]"
          },
          "metadata": {}
        }
      ]
    },
    {
      "cell_type": "markdown",
      "metadata": {
        "id": "dbdf0016"
      },
      "source": [
        "## Visualize data\n",
        "\n",
        "### Subtask:\n",
        "Plot the coordinates from the DataFrame on a graph."
      ]
    },
    {
      "cell_type": "markdown",
      "metadata": {
        "id": "e1127cf2"
      },
      "source": [
        "**Reasoning**:\n",
        "Create a plot of the GeoDataFrame and add a title."
      ]
    },
    {
      "cell_type": "code",
      "metadata": {
        "id": "c01f40ff"
      },
      "source": [
        "ax = gdf.plot(markersize=5)\n",
        "ax.set_title(\"Spatial Distribution of Coordinates\")"
      ],
      "execution_count": null,
      "outputs": []
    }
  ]
}